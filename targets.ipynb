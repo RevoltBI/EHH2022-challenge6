{
 "cells": [
  {
   "cell_type": "code",
   "execution_count": 2,
   "id": "79355536-5ebd-473c-aff2-0ce7ed2d75f0",
   "metadata": {},
   "outputs": [],
   "source": [
    "import pandas as pd"
   ]
  },
  {
   "cell_type": "code",
   "execution_count": 3,
   "id": "c21a7084-c6fe-4960-a9b0-d2dfaa2d613d",
   "metadata": {},
   "outputs": [],
   "source": [
    "data = pd.read_csv(\"Dg from report.csv\")"
   ]
  },
  {
   "cell_type": "code",
   "execution_count": 5,
   "id": "4bbd09dd-ff45-42eb-8937-15e0ff82e692",
   "metadata": {},
   "outputs": [],
   "source": [
    "DIAGNOSE = \"N18.\"\n",
    "data[\"target\"] = data.mainDgCode.str.startswith(DIAGNOSE) | data.OtherDgCode.str.startswith(DIAGNOSE) \n",
    "targets = data.groupby(\"Patient\").target.any()"
   ]
  },
  {
   "cell_type": "code",
   "execution_count": 14,
   "id": "da3514f2-0e6f-4dea-abe7-f47a797b5d00",
   "metadata": {},
   "outputs": [],
   "source": [
    "targets.to_frame().to_parquet(\"targets2.pq\")"
   ]
  }
 ],
 "metadata": {
  "kernelspec": {
   "display_name": "Python 3 (ipykernel)",
   "language": "python",
   "name": "python3"
  },
  "language_info": {
   "codemirror_mode": {
    "name": "ipython",
    "version": 3
   },
   "file_extension": ".py",
   "mimetype": "text/x-python",
   "name": "python",
   "nbconvert_exporter": "python",
   "pygments_lexer": "ipython3",
   "version": "3.10.6"
  }
 },
 "nbformat": 4,
 "nbformat_minor": 5
}
