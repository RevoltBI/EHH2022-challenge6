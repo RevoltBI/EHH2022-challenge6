{
 "cells": [
  {
   "cell_type": "code",
   "execution_count": null,
   "id": "b2fa6c5c-1814-423f-8a29-4acc0f5cd44c",
   "metadata": {},
   "outputs": [],
   "source": [
    "import pandas as pd"
   ]
  },
  {
   "cell_type": "code",
   "execution_count": null,
   "id": "5ffeb15a-bb50-48e8-ad6f-8a4c694f53b1",
   "metadata": {},
   "outputs": [],
   "source": [
    "#data = pd.read_parquet(\"gs://ehh2022-challenge6/labs_before_or_without_ckd_diagnosis.parquet\")\n",
    "data = pd.read_parquet(\"gs://ehh2022-challenge6/training_set/labs_180days_before_ckd_diag_table.parquet\")\n",
    "#data = pd.read_parquet(\"gs://ehh2022-challenge6/training_set/labs_more_than_800_before_last_diag_table.parquet\")"
   ]
  },
  {
   "cell_type": "code",
   "execution_count": null,
   "id": "0236b87f-968e-4f83-9754-cf0b5c1090e6",
   "metadata": {},
   "outputs": [],
   "source": [
    "# Drop data without values\n",
    "data = data[~data.ValueNumber.isna()]"
   ]
  },
  {
   "cell_type": "code",
   "execution_count": null,
   "id": "a7319b31-0485-49af-a5e9-73d8ec38d429",
   "metadata": {},
   "outputs": [],
   "source": [
    "# Take 300 most common metrics\n",
    "tmp = data[~data.EntryDateTime.isna()][\"metric_id\"].value_counts()[:300]\n",
    "top_codes = list(tmp.index)"
   ]
  },
  {
   "cell_type": "code",
   "execution_count": null,
   "id": "614af124-ad46-4d8f-bd4e-02bce155d7cd",
   "metadata": {},
   "outputs": [],
   "source": [
    "# Group more measurements in same time into one average\n",
    "avg_data = data[data.metric_id.isin(top_codes)][[\"Patient\", \"EntryDateTime\", \"metric_id\", \"ValueNumber\"]]\n",
    "avg_data = avg_data.groupby([\"Patient\", \"EntryDateTime\", \"metric_id\"]).ValueNumber.mean().reset_index()"
   ]
  },
  {
   "cell_type": "code",
   "execution_count": null,
   "id": "f7ef7f76-89d0-4ef4-a26b-b367f183ddf0",
   "metadata": {},
   "outputs": [],
   "source": [
    "# Pivot table\n",
    "pivoted = final.pivot(index=[\"Patient\", \"EntryDateTime\"], columns=\"metric_id\", values=\"ValueNumber\")"
   ]
  },
  {
   "cell_type": "code",
   "execution_count": null,
   "id": "ba999e66-4fd1-40a3-87f4-7936f2b623a3",
   "metadata": {},
   "outputs": [],
   "source": [
    "# Final cleanup of obviously invalid values\n",
    "pivoted[pivoted[\"Height\"] > 350] = float(\"nan\")\n",
    "pivoted[pivoted[\"Height\"] < 80] = float(\"nan\")\n",
    "pivoted[pivoted[\"Weight\"] > 350] = float(\"nan\")\n",
    "pivoted[pivoted[\"Weight\"] < 25] = float(\"nan\")\n",
    "pivoted = pivoted.drop([\"BMI\"], axis=1)"
   ]
  },
  {
   "cell_type": "code",
   "execution_count": 119,
   "id": "b6491d4f-0335-4a63-b879-73173ac04b9f",
   "metadata": {},
   "outputs": [],
   "source": [
    "# Saving final product\n",
    "pivoted.to_parquet(\"pivoted.pq\")"
   ]
  },
  {
   "cell_type": "code",
   "execution_count": null,
   "id": "aeb83698-f13f-43a3-ab8c-754448d7049d",
   "metadata": {},
   "outputs": [],
   "source": []
  }
 ],
 "metadata": {
  "kernelspec": {
   "display_name": "Python 3 (ipykernel)",
   "language": "python",
   "name": "python3"
  },
  "language_info": {
   "codemirror_mode": {
    "name": "ipython",
    "version": 3
   },
   "file_extension": ".py",
   "mimetype": "text/x-python",
   "name": "python",
   "nbconvert_exporter": "python",
   "pygments_lexer": "ipython3",
   "version": "3.10.6"
  }
 },
 "nbformat": 4,
 "nbformat_minor": 5
}
